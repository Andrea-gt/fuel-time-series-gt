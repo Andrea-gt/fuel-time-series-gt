{
  "cells": [
    {
      "cell_type": "markdown",
      "metadata": {
        "id": "XW3QbiB5fKY5"
      },
      "source": [
        "# **Time Series** 🕜"
      ]
    },
    {
      "cell_type": "markdown",
      "metadata": {
        "id": "z_nsD1y8fKY_"
      },
      "source": [
        "Decripcion Aqui..."
      ]
    },
    {
      "cell_type": "markdown",
      "source": [
        "**Authors:**\n",
        "- [Adrian Flores](https://github.com/adrianRFlores)\n",
        "- [Andrea Ramirez](https://github.com/Andrea-gt)"
      ],
      "metadata": {
        "id": "xmjysl51SMUr"
      }
    },
    {
      "cell_type": "markdown",
      "metadata": {
        "id": "ypVDSr4ifKZD"
      },
      "source": [
        "-----"
      ]
    },
    {
      "cell_type": "markdown",
      "metadata": {
        "id": "8leSqhBwfKZG"
      },
      "source": [
        "## **Import Libraries** ⬇️"
      ]
    },
    {
      "cell_type": "code",
      "source": [
        " #!pip install dataprep"
      ],
      "metadata": {
        "id": "0TRtNYLofQkv"
      },
      "execution_count": 32,
      "outputs": []
    },
    {
      "cell_type": "code",
      "execution_count": 33,
      "metadata": {
        "id": "8Mhlw1EJfKZJ"
      },
      "outputs": [],
      "source": [
        "# Data manipulation and visualization\n",
        "import matplotlib.pyplot as plt\n",
        "import numpy as np\n",
        "import pandas as pd\n",
        "import seaborn as sns\n",
        "\n",
        "# Standard libraries\n",
        "import warnings\n",
        "warnings.filterwarnings('ignore')\n",
        "\n",
        "from dataprep.datasets import load_dataset\n",
        "from dataprep.eda import create_report, plot, plot_correlation, plot_missing\n",
        "\n",
        "# ===== ===== Reproducibility Seed ===== =====\n",
        "# Set a fixed seed for the random number generator for reproducibility\n",
        "random_state = 42\n",
        "\n",
        "# Set matplotlib inline\n",
        "%matplotlib inline\n",
        "\n",
        "# Set default figure size\n",
        "plt.rcParams['figure.figsize'] = (6, 4)\n",
        "\n",
        "# Define custom color palette\n",
        "palette = sns.color_palette(\"viridis\", 12)"
      ]
    },
    {
      "cell_type": "markdown",
      "source": [
        "## **Data Upload** 📄"
      ],
      "metadata": {
        "id": "iVsABBSlfp0s"
      }
    },
    {
      "cell_type": "code",
      "source": [
        "def read_and_process_excel(file_names):\n",
        "    dfs = []  # Initialize an empty list to store DataFrames\n",
        "\n",
        "    for file_name in file_names:\n",
        "        # Read the Excel file while skipping the first six rows of headers\n",
        "        df = pd.read_excel(file_name, skiprows=6)\n",
        "\n",
        "        # Drop the last three rows from the DataFrame to remove any unwanted data\n",
        "        df = df.iloc[:-3]\n",
        "\n",
        "        # Convert the 'Fecha' column to datetime format\n",
        "        df['Fecha'] = pd.to_datetime(df['Fecha'])\n",
        "\n",
        "        # Set the 'Fecha' column as the index of the DataFrame\n",
        "        df.set_index('Fecha', inplace=True)\n",
        "\n",
        "        # Select only the specified columns and create a new column 'Diesel' by combining 'Diesel alto azufre' and 'Diesel bajo azufre'\n",
        "        df['Diesel'] = df['Diesel alto azufre'].fillna(0) + df['Diesel bajo azufre'].fillna(0)\n",
        "\n",
        "        # Select only the relevant columns: Gasolina regular, Gasolina superior, Gas licuado de petróleo, and the new Diesel column\n",
        "        df = df[['Gasolina regular', 'Gasolina superior', 'Gas licuado de petróleo', 'Diesel']]\n",
        "\n",
        "        # Append the processed DataFrame to the list\n",
        "        dfs.append(df)\n",
        "\n",
        "    return dfs  # Return the list of DataFrames"
      ],
      "metadata": {
        "id": "pE-J1Eyzm51O"
      },
      "execution_count": 34,
      "outputs": []
    },
    {
      "cell_type": "code",
      "source": [
        "# List of Excel file names to be processed\n",
        "file_names = [\"consumo.xlsx\", \"importacion.xlsx\"]\n",
        "dataset_names = [\"Consumo\", \"Importacion\"]\n",
        "\n",
        "# Call the function to read and process the Excel files, storing the result in the dataframes variable\n",
        "dataframes = read_and_process_excel(file_names)"
      ],
      "metadata": {
        "id": "LQLOJw5nfpj-"
      },
      "execution_count": 35,
      "outputs": []
    },
    {
      "cell_type": "markdown",
      "source": [
        "## **Exploratory Analysis** 🔎"
      ],
      "metadata": {
        "id": "r7ohWwlfoXEa"
      }
    },
    {
      "cell_type": "markdown",
      "source": [
        "### **(1) Descripción y Análisis de los Datos**"
      ],
      "metadata": {
        "id": "0r0hNXMHoefF"
      }
    },
    {
      "cell_type": "code",
      "source": [
        "for i, df in enumerate(dataframes):\n",
        "  # Get the number of rows in the merged DataFrame\n",
        "  rows_num = df.shape[0]\n",
        "\n",
        "  # Print the number of records in the DataFrame\n",
        "  print(f\"The given dataset {dataset_names[i]} has\", rows_num, \"registers.\")"
      ],
      "metadata": {
        "id": "BU_joX6mn-zp",
        "colab": {
          "base_uri": "https://localhost:8080/"
        },
        "outputId": "322fd9ca-080b-4786-cc95-16c37372de6c"
      },
      "execution_count": 36,
      "outputs": [
        {
          "output_type": "stream",
          "name": "stdout",
          "text": [
            "The given dataset Consumo has 293 registers.\n",
            "The given dataset Importacion has 281 registers.\n"
          ]
        }
      ]
    },
    {
      "cell_type": "markdown",
      "source": [
        "**Observaciones 💡 -->**"
      ],
      "metadata": {
        "id": "g6q6xWFC9hgT"
      }
    },
    {
      "cell_type": "markdown",
      "source": [
        "> - El primer conjunto de datos se centra en la recopilación de información histórica sobre el consumo nacional de petróleo y productos petroleros en Guatemala. Este conjunto abarca entradas desde enero de 2000 hasta la fecha actual. La información fue obtenida de la página oficial del [Ministerio de Energía y Minas](https://mem.gob.gt/que-hacemos/hidrocarburos/comercializacion-downstream/estadisticas-de-mercado/#1599459297938-cd7460d6-8212). Cuenta con alrededor de 293 registros y 4 columnas."
      ],
      "metadata": {
        "id": "MFzTvcCq9mot"
      }
    },
    {
      "cell_type": "markdown",
      "source": [
        "> - El segundo conjunto de datos se centra en la recopilación de información histórica sobre la importación de productos derivados del petróleo en Guatemala. Este conjunto abarca entradas desde enero de 2001 hasta la fecha actual. La información fue obtenida de la página oficial del [Ministerio de Energía y Minas](https://mem.gob.gt/que-hacemos/hidrocarburos/comercializacion-downstream/estadisticas-de-mercado/#1599459009048-ab105b3e-20a3). Cuenta con alrededor de 281 registros y 4 columnas, de manera similar al conjunto anterior."
      ],
      "metadata": {
        "id": "ILuvSil7_Agr"
      }
    },
    {
      "cell_type": "code",
      "source": [
        "for df in dataframes:\n",
        "  # Basic information about the dataset\n",
        "  df.info()"
      ],
      "metadata": {
        "colab": {
          "base_uri": "https://localhost:8080/"
        },
        "id": "UYkacZgIC5ox",
        "outputId": "d57e9fb7-b286-4174-8ef7-a88bc85a3800"
      },
      "execution_count": 37,
      "outputs": [
        {
          "output_type": "stream",
          "name": "stdout",
          "text": [
            "<class 'pandas.core.frame.DataFrame'>\n",
            "DatetimeIndex: 293 entries, 2000-01-01 to 2024-05-01\n",
            "Data columns (total 4 columns):\n",
            " #   Column                   Non-Null Count  Dtype  \n",
            "---  ------                   --------------  -----  \n",
            " 0   Gasolina regular         293 non-null    float64\n",
            " 1   Gasolina superior        293 non-null    float64\n",
            " 2   Gas licuado de petróleo  293 non-null    float64\n",
            " 3   Diesel                   293 non-null    float64\n",
            "dtypes: float64(4)\n",
            "memory usage: 11.4 KB\n",
            "<class 'pandas.core.frame.DataFrame'>\n",
            "DatetimeIndex: 281 entries, 2001-01-01 to 2024-05-01\n",
            "Data columns (total 4 columns):\n",
            " #   Column                   Non-Null Count  Dtype  \n",
            "---  ------                   --------------  -----  \n",
            " 0   Gasolina regular         281 non-null    float64\n",
            " 1   Gasolina superior        281 non-null    float64\n",
            " 2   Gas licuado de petróleo  281 non-null    float64\n",
            " 3   Diesel                   281 non-null    float64\n",
            "dtypes: float64(4)\n",
            "memory usage: 11.0 KB\n"
          ]
        }
      ]
    },
    {
      "cell_type": "markdown",
      "source": [
        "**Observaciones 💡 -->**"
      ],
      "metadata": {
        "id": "1_t9qxFY_4kK"
      }
    },
    {
      "cell_type": "markdown",
      "source": [
        "> - En este análisis observamos que no es necesario realizar alteraciones en los tipos de las variables en ninguno de los conjuntos de datos, ya que todas están definidas de manera adecuada. Es relevante destacar que, aunque no se observan valores nulos en el conjunto de datos, existe la posibilidad de que algunos de ellos estén codificados de manera diferente. Por lo tanto, es crucial tener esto en cuenta durante el proceso de limpieza. Sin embargo, a medida que se avance en el análisis exploratorio, se podrá obtener información más detallada al respecto."
      ],
      "metadata": {
        "id": "SDWyfG66FlG6"
      }
    },
    {
      "cell_type": "markdown",
      "source": [
        "### **(2) Clasificación de las Variables**"
      ],
      "metadata": {
        "id": "5zHMJ4zyAQmx"
      }
    },
    {
      "cell_type": "markdown",
      "source": [
        "**Conjunto de Datos de Consumo -->**"
      ],
      "metadata": {
        "id": "n2EzGIUFAenn"
      }
    },
    {
      "cell_type": "markdown",
      "source": [
        "| Nombre                       | Descripción                                                          | Clasificación  |\n",
        "|------------------------------|----------------------------------------------------------------------|----------------|\n",
        "| Fecha                        | Fecha de registro de los datos de consumo de combustibles.            | Categórica     |\n",
        "| Gasolina regular             | Consumo nacional de gasolina regular en barriles de 42 galones.       | Numérica       |\n",
        "| Gasolina superior            | Consumo nacional de gasolina superior en barriles de 42 galones.      | Numérica       |\n",
        "| Gas licuado de petróleo      | Consumo nacional de gas licuado de petróleo en barriles de 42 galones.| Numérica       |\n",
        "| Diesel                       | Consumo nacional de diesel en barriles de 42 galones.                 | Numérica       |\n"
      ],
      "metadata": {
        "id": "HZukbd8PBSET"
      }
    },
    {
      "cell_type": "markdown",
      "source": [
        "**Conjunto de Datos de Importación -->**"
      ],
      "metadata": {
        "id": "Sf6-Voz1BrRE"
      }
    },
    {
      "cell_type": "markdown",
      "source": [
        "| Nombre                       | Descripción                                                               | Clasificación  |\n",
        "|------------------------------|---------------------------------------------------------------------------|----------------|\n",
        "| Fecha                        | Fecha de registro de la importación de productos derivados del petróleo.  | Categórica     |\n",
        "| Gasolina regular             | Importación nacional de gasolina regular en barriles de 42 galones.      | Numérica       |\n",
        "| Gasolina superior            | Importación nacional de gasolina superior en barriles de 42 galones.     | Numérica       |\n",
        "| Gas licuado de petróleo      | Imporatación nacional de gas licuado de petróleo en barriles de 42 galones.| Numérica       |\n",
        "| Diesel                       | Importación nacional de diesel en barriles de 42 galones.                | Numérica       |"
      ],
      "metadata": {
        "id": "BIJV8qOJCjqO"
      }
    },
    {
      "cell_type": "markdown",
      "source": [
        "### **(2) Exploración y Limpieza Inicial de los Datos**"
      ],
      "metadata": {
        "id": "4b_EpnEFCnG1"
      }
    },
    {
      "cell_type": "markdown",
      "source": [
        "#### **🖊 Modificación de Etiquetas de Variables -->**"
      ],
      "metadata": {
        "id": "5uTdwh8DKeBo"
      }
    },
    {
      "cell_type": "markdown",
      "source": [
        "Para facilitar la comprensión y el manejo del conjunto de datos, se procederá a modificar los nombres de las variables. Este cambio permitirá una organización más clara y una interpretación más precisa de la información."
      ],
      "metadata": {
        "id": "wBUQgASmKwRg"
      }
    },
    {
      "cell_type": "code",
      "source": [
        "# Dictionary to rename columns for better readability\n",
        "rename_col = {\n",
        "    'Gasolina regular': 'gasoline_regular',    # Renaming 'Gasolina regular' to 'gasoline_regular'\n",
        "    'Gasolina superior': 'gasoline_superior',  # Renaming 'Gasolina superior' to 'gasoline_superior'\n",
        "    'Gas licuado de petróleo': 'liquefied_gas', # Renaming 'Gas licuado de petróleo' to 'liquefied_gas'\n",
        "    'Diesel': 'diesel'                        # Renaming 'Diesel' to 'diesel'\n",
        "}"
      ],
      "metadata": {
        "id": "So0yERvhKVvg"
      },
      "execution_count": 38,
      "outputs": []
    },
    {
      "cell_type": "code",
      "source": [
        "for i, df in enumerate(dataframes):\n",
        "  # Use a pandas function to rename the current function\n",
        "  df = df.rename(columns = rename_col)\n",
        "  # Change the index name from 'Fecha' to 'date'\n",
        "  df.rename_axis('date', inplace=True)\n",
        "  # Save changes\n",
        "  dataframes[i] = df\n",
        "  print(df.head(2))"
      ],
      "metadata": {
        "colab": {
          "base_uri": "https://localhost:8080/"
        },
        "id": "WlUIyPEiKuzD",
        "outputId": "5b76d61d-ba84-42a0-8087-bb5fda9bd814"
      },
      "execution_count": 44,
      "outputs": [
        {
          "output_type": "stream",
          "name": "stdout",
          "text": [
            "            gasoline_regular  gasoline_superior  liquefied_gas     diesel\n",
            "date                                                                     \n",
            "2000-01-01         202645.20          308156.82  194410.476190  634667.06\n",
            "2000-02-01         205530.96          307766.31  174710.552381  642380.66\n",
            "            gasoline_regular  gasoline_superior  liquefied_gas     diesel\n",
            "date                                                                     \n",
            "2001-01-01         177776.50          373963.96  194065.738095  566101.99\n",
            "2001-02-01         123115.99          243091.07  170703.380952  489525.80\n"
          ]
        }
      ]
    },
    {
      "cell_type": "markdown",
      "source": [
        "#### **🥇 Top 10 Valores Más Frecuentes para Cada Columna (Tablas de Frecuencia) -->**"
      ],
      "metadata": {
        "id": "zBZ1_oVXLg4L"
      }
    },
    {
      "cell_type": "code",
      "source": [
        "def get_top_ten(df):\n",
        "  # See what are the 10 most frequent values for each of the dataframe columns\n",
        "  for column in df.columns:\n",
        "      frequency_values = df[column].value_counts().head(10)\n",
        "      print(\"Top 10 most frequent values for column '{}':\".format(column))\n",
        "      for index, (value, frequency) in enumerate(frequency_values.items(), start=1):\n",
        "          print(\"{:<5} {:<30} {:<10}\".format(index, value, frequency))\n",
        "      print(\"\\n===============================================\")"
      ],
      "metadata": {
        "id": "yHFkpeo9MJPn"
      },
      "execution_count": 45,
      "outputs": []
    },
    {
      "cell_type": "markdown",
      "source": [
        "**Conjunto de Datos de Consumo -->**"
      ],
      "metadata": {
        "id": "pvYoBElGLqAo"
      }
    },
    {
      "cell_type": "code",
      "source": [
        "get_top_ten(dataframes[0])"
      ],
      "metadata": {
        "colab": {
          "base_uri": "https://localhost:8080/"
        },
        "id": "seo1Nbm0K2EH",
        "outputId": "d55fb2da-2cf2-4297-8386-5e89c600e52d"
      },
      "execution_count": 46,
      "outputs": [
        {
          "output_type": "stream",
          "name": "stdout",
          "text": [
            "Top 10 most frequent values for column 'gasoline_regular':\n",
            "1     202645.2                       1         \n",
            "2     415570.94999999995             1         \n",
            "3     456946.75                      1         \n",
            "4     485995.83                      1         \n",
            "5     465270.48000000004             1         \n",
            "6     450758.18000000005             1         \n",
            "7     468710.37999999995             1         \n",
            "8     467472.2                       1         \n",
            "9     486255.94000000006             1         \n",
            "10    450916.35                      1         \n",
            "\n",
            "===============================================\n",
            "Top 10 most frequent values for column 'gasoline_superior':\n",
            "1     308156.82                      1         \n",
            "2     483594.8300000001              1         \n",
            "3     548491.65                      1         \n",
            "4     585748.5                       1         \n",
            "5     562778.84                      1         \n",
            "6     537583.25                      1         \n",
            "7     551000.79                      1         \n",
            "8     545605.47                      1         \n",
            "9     575720.92                      1         \n",
            "10    540459.19                      1         \n",
            "\n",
            "===============================================\n",
            "Top 10 most frequent values for column 'liquefied_gas':\n",
            "1     194410.47619047618             1         \n",
            "2     328177.80380952376             1         \n",
            "3     356426.2335714286              1         \n",
            "4     363859.51309523813             1         \n",
            "5     350429.7666666667              1         \n",
            "6     355848.9933333334              1         \n",
            "7     377629.0169047619              1         \n",
            "8     357084.2233333333              1         \n",
            "9     372223.4240476191              1         \n",
            "10    368867.54809523805             1         \n",
            "\n",
            "===============================================\n",
            "Top 10 most frequent values for column 'diesel':\n",
            "1     634667.06                      1         \n",
            "2     944316.6599999999              1         \n",
            "3     877800.5599999999              1         \n",
            "4     866270.02                      1         \n",
            "5     883716.04                      1         \n",
            "6     888538.1                       1         \n",
            "7     1019984.4000000001             1         \n",
            "8     1149175.1921428572             1         \n",
            "9     1107296.65                     1         \n",
            "10    1055672.6400000001             1         \n",
            "\n",
            "===============================================\n"
          ]
        }
      ]
    },
    {
      "cell_type": "markdown",
      "source": [
        "**Conjunto de Datos de Importación -->**"
      ],
      "metadata": {
        "id": "oMy82X04Lqoi"
      }
    },
    {
      "cell_type": "code",
      "source": [
        "get_top_ten(dataframes[1])"
      ],
      "metadata": {
        "colab": {
          "base_uri": "https://localhost:8080/"
        },
        "id": "FfwLHiXELq9C",
        "outputId": "999db908-1dea-4d69-91ae-0ea41c94165f"
      },
      "execution_count": 47,
      "outputs": [
        {
          "output_type": "stream",
          "name": "stdout",
          "text": [
            "Top 10 most frequent values for column 'gasoline_regular':\n",
            "1     177776.5                       1         \n",
            "2     397477.4                       1         \n",
            "3     473659.59                      1         \n",
            "4     476784.16000000003             1         \n",
            "5     455850.75999999995             1         \n",
            "6     567786.57                      1         \n",
            "7     512202.57                      1         \n",
            "8     526652.73                      1         \n",
            "9     528347.81                      1         \n",
            "10    469140.06                      1         \n",
            "\n",
            "===============================================\n",
            "Top 10 most frequent values for column 'gasoline_superior':\n",
            "1     373963.96                      1         \n",
            "2     502082.45                      1         \n",
            "3     526573.96                      1         \n",
            "4     725548.16                      1         \n",
            "5     546154.65                      1         \n",
            "6     677892.97                      1         \n",
            "7     625218.9                       1         \n",
            "8     618366.1                       1         \n",
            "9     615900.31                      1         \n",
            "10    497707.41000000003             1         \n",
            "\n",
            "===============================================\n",
            "Top 10 most frequent values for column 'liquefied_gas':\n",
            "1     194065.7380952381              1         \n",
            "2     703319.2333333334              1         \n",
            "3     584807.1904761905              1         \n",
            "4     505975.97619047615             1         \n",
            "5     717388.5666666667              1         \n",
            "6     306543.4095238095              1         \n",
            "7     588310.5428571429              1         \n",
            "8     455823.14285714284             1         \n",
            "9     416912.47142857144             1         \n",
            "10    279527.2252380952              1         \n",
            "\n",
            "===============================================\n",
            "Top 10 most frequent values for column 'diesel':\n",
            "1     566101.99                      1         \n",
            "2     800222.53                      1         \n",
            "3     1303735.7799999998             1         \n",
            "4     957656.05                      1         \n",
            "5     927923.5                       1         \n",
            "6     1274128.31                     1         \n",
            "7     701185.75                      1         \n",
            "8     859222.6199999999              1         \n",
            "9     1035544.08                     1         \n",
            "10    844676.98                      1         \n",
            "\n",
            "===============================================\n"
          ]
        }
      ]
    },
    {
      "cell_type": "markdown",
      "source": [
        "**Observaciones 💡 -->**"
      ],
      "metadata": {
        "id": "GMX0yTGDNVVO"
      }
    },
    {
      "cell_type": "markdown",
      "source": [
        "> - En las tablas de frecuencia de los conjuntos de datos, observamos que los valores son únicos. Por lo tanto, procederemos a realizar un análisis descriptivo de las estadísticas de las columnas utilizando la función `describe()`."
      ],
      "metadata": {
        "id": "5uw_OKxrNVVP"
      }
    },
    {
      "cell_type": "markdown",
      "source": [
        "#### **🔢 Estadísticas de Conjunto de Datos -->**"
      ],
      "metadata": {
        "id": "jwQkh1ISM7QP"
      }
    },
    {
      "cell_type": "markdown",
      "source": [
        "**Conjunto de Datos de Consumo -->**"
      ],
      "metadata": {
        "id": "YpbWFeE9Pgxk"
      }
    },
    {
      "cell_type": "code",
      "source": [
        "dataframes[0].describe()"
      ],
      "metadata": {
        "colab": {
          "base_uri": "https://localhost:8080/",
          "height": 314
        },
        "id": "X2OTfg7TPgFA",
        "outputId": "9da634f4-1f26-499f-8fb8-3621075ae630"
      },
      "execution_count": 48,
      "outputs": [
        {
          "output_type": "execute_result",
          "data": {
            "text/plain": [
              "       gasoline_regular  gasoline_superior  liquefied_gas        diesel\n",
              "count        293.000000         293.000000     293.000000  2.930000e+02\n",
              "mean      386490.157486      464562.247013  312350.791082  8.697828e+05\n",
              "std       209541.304568      108349.195858  109315.234878  2.185603e+05\n",
              "min       160741.900000      300242.781667  167818.137897  5.076627e+05\n",
              "25%       214509.650000      382078.880000  225886.426190  6.996108e+05\n",
              "50%       285089.040000      420238.710000  262255.138095  8.076921e+05\n",
              "75%       524242.310000      565665.720000  393901.921429  1.032813e+06\n",
              "max       894533.140000      768102.830000  588892.160000  1.463008e+06"
            ],
            "text/html": [
              "\n",
              "  <div id=\"df-41905823-01eb-4a2e-9d84-82433277c62a\" class=\"colab-df-container\">\n",
              "    <div>\n",
              "<style scoped>\n",
              "    .dataframe tbody tr th:only-of-type {\n",
              "        vertical-align: middle;\n",
              "    }\n",
              "\n",
              "    .dataframe tbody tr th {\n",
              "        vertical-align: top;\n",
              "    }\n",
              "\n",
              "    .dataframe thead th {\n",
              "        text-align: right;\n",
              "    }\n",
              "</style>\n",
              "<table border=\"1\" class=\"dataframe\">\n",
              "  <thead>\n",
              "    <tr style=\"text-align: right;\">\n",
              "      <th></th>\n",
              "      <th>gasoline_regular</th>\n",
              "      <th>gasoline_superior</th>\n",
              "      <th>liquefied_gas</th>\n",
              "      <th>diesel</th>\n",
              "    </tr>\n",
              "  </thead>\n",
              "  <tbody>\n",
              "    <tr>\n",
              "      <th>count</th>\n",
              "      <td>293.000000</td>\n",
              "      <td>293.000000</td>\n",
              "      <td>293.000000</td>\n",
              "      <td>2.930000e+02</td>\n",
              "    </tr>\n",
              "    <tr>\n",
              "      <th>mean</th>\n",
              "      <td>386490.157486</td>\n",
              "      <td>464562.247013</td>\n",
              "      <td>312350.791082</td>\n",
              "      <td>8.697828e+05</td>\n",
              "    </tr>\n",
              "    <tr>\n",
              "      <th>std</th>\n",
              "      <td>209541.304568</td>\n",
              "      <td>108349.195858</td>\n",
              "      <td>109315.234878</td>\n",
              "      <td>2.185603e+05</td>\n",
              "    </tr>\n",
              "    <tr>\n",
              "      <th>min</th>\n",
              "      <td>160741.900000</td>\n",
              "      <td>300242.781667</td>\n",
              "      <td>167818.137897</td>\n",
              "      <td>5.076627e+05</td>\n",
              "    </tr>\n",
              "    <tr>\n",
              "      <th>25%</th>\n",
              "      <td>214509.650000</td>\n",
              "      <td>382078.880000</td>\n",
              "      <td>225886.426190</td>\n",
              "      <td>6.996108e+05</td>\n",
              "    </tr>\n",
              "    <tr>\n",
              "      <th>50%</th>\n",
              "      <td>285089.040000</td>\n",
              "      <td>420238.710000</td>\n",
              "      <td>262255.138095</td>\n",
              "      <td>8.076921e+05</td>\n",
              "    </tr>\n",
              "    <tr>\n",
              "      <th>75%</th>\n",
              "      <td>524242.310000</td>\n",
              "      <td>565665.720000</td>\n",
              "      <td>393901.921429</td>\n",
              "      <td>1.032813e+06</td>\n",
              "    </tr>\n",
              "    <tr>\n",
              "      <th>max</th>\n",
              "      <td>894533.140000</td>\n",
              "      <td>768102.830000</td>\n",
              "      <td>588892.160000</td>\n",
              "      <td>1.463008e+06</td>\n",
              "    </tr>\n",
              "  </tbody>\n",
              "</table>\n",
              "</div>\n",
              "    <div class=\"colab-df-buttons\">\n",
              "\n",
              "  <div class=\"colab-df-container\">\n",
              "    <button class=\"colab-df-convert\" onclick=\"convertToInteractive('df-41905823-01eb-4a2e-9d84-82433277c62a')\"\n",
              "            title=\"Convert this dataframe to an interactive table.\"\n",
              "            style=\"display:none;\">\n",
              "\n",
              "  <svg xmlns=\"http://www.w3.org/2000/svg\" height=\"24px\" viewBox=\"0 -960 960 960\">\n",
              "    <path d=\"M120-120v-720h720v720H120Zm60-500h600v-160H180v160Zm220 220h160v-160H400v160Zm0 220h160v-160H400v160ZM180-400h160v-160H180v160Zm440 0h160v-160H620v160ZM180-180h160v-160H180v160Zm440 0h160v-160H620v160Z\"/>\n",
              "  </svg>\n",
              "    </button>\n",
              "\n",
              "  <style>\n",
              "    .colab-df-container {\n",
              "      display:flex;\n",
              "      gap: 12px;\n",
              "    }\n",
              "\n",
              "    .colab-df-convert {\n",
              "      background-color: #E8F0FE;\n",
              "      border: none;\n",
              "      border-radius: 50%;\n",
              "      cursor: pointer;\n",
              "      display: none;\n",
              "      fill: #1967D2;\n",
              "      height: 32px;\n",
              "      padding: 0 0 0 0;\n",
              "      width: 32px;\n",
              "    }\n",
              "\n",
              "    .colab-df-convert:hover {\n",
              "      background-color: #E2EBFA;\n",
              "      box-shadow: 0px 1px 2px rgba(60, 64, 67, 0.3), 0px 1px 3px 1px rgba(60, 64, 67, 0.15);\n",
              "      fill: #174EA6;\n",
              "    }\n",
              "\n",
              "    .colab-df-buttons div {\n",
              "      margin-bottom: 4px;\n",
              "    }\n",
              "\n",
              "    [theme=dark] .colab-df-convert {\n",
              "      background-color: #3B4455;\n",
              "      fill: #D2E3FC;\n",
              "    }\n",
              "\n",
              "    [theme=dark] .colab-df-convert:hover {\n",
              "      background-color: #434B5C;\n",
              "      box-shadow: 0px 1px 3px 1px rgba(0, 0, 0, 0.15);\n",
              "      filter: drop-shadow(0px 1px 2px rgba(0, 0, 0, 0.3));\n",
              "      fill: #FFFFFF;\n",
              "    }\n",
              "  </style>\n",
              "\n",
              "    <script>\n",
              "      const buttonEl =\n",
              "        document.querySelector('#df-41905823-01eb-4a2e-9d84-82433277c62a button.colab-df-convert');\n",
              "      buttonEl.style.display =\n",
              "        google.colab.kernel.accessAllowed ? 'block' : 'none';\n",
              "\n",
              "      async function convertToInteractive(key) {\n",
              "        const element = document.querySelector('#df-41905823-01eb-4a2e-9d84-82433277c62a');\n",
              "        const dataTable =\n",
              "          await google.colab.kernel.invokeFunction('convertToInteractive',\n",
              "                                                    [key], {});\n",
              "        if (!dataTable) return;\n",
              "\n",
              "        const docLinkHtml = 'Like what you see? Visit the ' +\n",
              "          '<a target=\"_blank\" href=https://colab.research.google.com/notebooks/data_table.ipynb>data table notebook</a>'\n",
              "          + ' to learn more about interactive tables.';\n",
              "        element.innerHTML = '';\n",
              "        dataTable['output_type'] = 'display_data';\n",
              "        await google.colab.output.renderOutput(dataTable, element);\n",
              "        const docLink = document.createElement('div');\n",
              "        docLink.innerHTML = docLinkHtml;\n",
              "        element.appendChild(docLink);\n",
              "      }\n",
              "    </script>\n",
              "  </div>\n",
              "\n",
              "\n",
              "<div id=\"df-cbece7c8-1e35-4e94-84d5-5b4711f3b194\">\n",
              "  <button class=\"colab-df-quickchart\" onclick=\"quickchart('df-cbece7c8-1e35-4e94-84d5-5b4711f3b194')\"\n",
              "            title=\"Suggest charts\"\n",
              "            style=\"display:none;\">\n",
              "\n",
              "<svg xmlns=\"http://www.w3.org/2000/svg\" height=\"24px\"viewBox=\"0 0 24 24\"\n",
              "     width=\"24px\">\n",
              "    <g>\n",
              "        <path d=\"M19 3H5c-1.1 0-2 .9-2 2v14c0 1.1.9 2 2 2h14c1.1 0 2-.9 2-2V5c0-1.1-.9-2-2-2zM9 17H7v-7h2v7zm4 0h-2V7h2v10zm4 0h-2v-4h2v4z\"/>\n",
              "    </g>\n",
              "</svg>\n",
              "  </button>\n",
              "\n",
              "<style>\n",
              "  .colab-df-quickchart {\n",
              "      --bg-color: #E8F0FE;\n",
              "      --fill-color: #1967D2;\n",
              "      --hover-bg-color: #E2EBFA;\n",
              "      --hover-fill-color: #174EA6;\n",
              "      --disabled-fill-color: #AAA;\n",
              "      --disabled-bg-color: #DDD;\n",
              "  }\n",
              "\n",
              "  [theme=dark] .colab-df-quickchart {\n",
              "      --bg-color: #3B4455;\n",
              "      --fill-color: #D2E3FC;\n",
              "      --hover-bg-color: #434B5C;\n",
              "      --hover-fill-color: #FFFFFF;\n",
              "      --disabled-bg-color: #3B4455;\n",
              "      --disabled-fill-color: #666;\n",
              "  }\n",
              "\n",
              "  .colab-df-quickchart {\n",
              "    background-color: var(--bg-color);\n",
              "    border: none;\n",
              "    border-radius: 50%;\n",
              "    cursor: pointer;\n",
              "    display: none;\n",
              "    fill: var(--fill-color);\n",
              "    height: 32px;\n",
              "    padding: 0;\n",
              "    width: 32px;\n",
              "  }\n",
              "\n",
              "  .colab-df-quickchart:hover {\n",
              "    background-color: var(--hover-bg-color);\n",
              "    box-shadow: 0 1px 2px rgba(60, 64, 67, 0.3), 0 1px 3px 1px rgba(60, 64, 67, 0.15);\n",
              "    fill: var(--button-hover-fill-color);\n",
              "  }\n",
              "\n",
              "  .colab-df-quickchart-complete:disabled,\n",
              "  .colab-df-quickchart-complete:disabled:hover {\n",
              "    background-color: var(--disabled-bg-color);\n",
              "    fill: var(--disabled-fill-color);\n",
              "    box-shadow: none;\n",
              "  }\n",
              "\n",
              "  .colab-df-spinner {\n",
              "    border: 2px solid var(--fill-color);\n",
              "    border-color: transparent;\n",
              "    border-bottom-color: var(--fill-color);\n",
              "    animation:\n",
              "      spin 1s steps(1) infinite;\n",
              "  }\n",
              "\n",
              "  @keyframes spin {\n",
              "    0% {\n",
              "      border-color: transparent;\n",
              "      border-bottom-color: var(--fill-color);\n",
              "      border-left-color: var(--fill-color);\n",
              "    }\n",
              "    20% {\n",
              "      border-color: transparent;\n",
              "      border-left-color: var(--fill-color);\n",
              "      border-top-color: var(--fill-color);\n",
              "    }\n",
              "    30% {\n",
              "      border-color: transparent;\n",
              "      border-left-color: var(--fill-color);\n",
              "      border-top-color: var(--fill-color);\n",
              "      border-right-color: var(--fill-color);\n",
              "    }\n",
              "    40% {\n",
              "      border-color: transparent;\n",
              "      border-right-color: var(--fill-color);\n",
              "      border-top-color: var(--fill-color);\n",
              "    }\n",
              "    60% {\n",
              "      border-color: transparent;\n",
              "      border-right-color: var(--fill-color);\n",
              "    }\n",
              "    80% {\n",
              "      border-color: transparent;\n",
              "      border-right-color: var(--fill-color);\n",
              "      border-bottom-color: var(--fill-color);\n",
              "    }\n",
              "    90% {\n",
              "      border-color: transparent;\n",
              "      border-bottom-color: var(--fill-color);\n",
              "    }\n",
              "  }\n",
              "</style>\n",
              "\n",
              "  <script>\n",
              "    async function quickchart(key) {\n",
              "      const quickchartButtonEl =\n",
              "        document.querySelector('#' + key + ' button');\n",
              "      quickchartButtonEl.disabled = true;  // To prevent multiple clicks.\n",
              "      quickchartButtonEl.classList.add('colab-df-spinner');\n",
              "      try {\n",
              "        const charts = await google.colab.kernel.invokeFunction(\n",
              "            'suggestCharts', [key], {});\n",
              "      } catch (error) {\n",
              "        console.error('Error during call to suggestCharts:', error);\n",
              "      }\n",
              "      quickchartButtonEl.classList.remove('colab-df-spinner');\n",
              "      quickchartButtonEl.classList.add('colab-df-quickchart-complete');\n",
              "    }\n",
              "    (() => {\n",
              "      let quickchartButtonEl =\n",
              "        document.querySelector('#df-cbece7c8-1e35-4e94-84d5-5b4711f3b194 button');\n",
              "      quickchartButtonEl.style.display =\n",
              "        google.colab.kernel.accessAllowed ? 'block' : 'none';\n",
              "    })();\n",
              "  </script>\n",
              "</div>\n",
              "\n",
              "    </div>\n",
              "  </div>\n"
            ],
            "application/vnd.google.colaboratory.intrinsic+json": {
              "type": "dataframe",
              "summary": "{\n  \"name\": \"dataframes[0]\",\n  \"rows\": 8,\n  \"fields\": [\n    {\n      \"column\": \"gasoline_regular\",\n      \"properties\": {\n        \"dtype\": \"number\",\n        \"std\": 274299.67924511916,\n        \"min\": 293.0,\n        \"max\": 894533.14,\n        \"num_unique_values\": 8,\n        \"samples\": [\n          386490.1574855355,\n          285089.04000000004,\n          293.0\n        ],\n        \"semantic_type\": \"\",\n        \"description\": \"\"\n      }\n    },\n    {\n      \"column\": \"gasoline_superior\",\n      \"properties\": {\n        \"dtype\": \"number\",\n        \"std\": 244390.36908575436,\n        \"min\": 293.0,\n        \"max\": 768102.83,\n        \"num_unique_values\": 8,\n        \"samples\": [\n          464562.2470125142,\n          420238.71,\n          293.0\n        ],\n        \"semantic_type\": \"\",\n        \"description\": \"\"\n      }\n    },\n    {\n      \"column\": \"liquefied_gas\",\n      \"properties\": {\n        \"dtype\": \"number\",\n        \"std\": 180718.33842032021,\n        \"min\": 293.0,\n        \"max\": 588892.16,\n        \"num_unique_values\": 8,\n        \"samples\": [\n          312350.79108190926,\n          262255.1380952381,\n          293.0\n        ],\n        \"semantic_type\": \"\",\n        \"description\": \"\"\n      }\n    },\n    {\n      \"column\": \"diesel\",\n      \"properties\": {\n        \"dtype\": \"number\",\n        \"std\": 461633.46191462374,\n        \"min\": 293.0,\n        \"max\": 1463008.43,\n        \"num_unique_values\": 8,\n        \"samples\": [\n          869782.8036955729,\n          807692.1,\n          293.0\n        ],\n        \"semantic_type\": \"\",\n        \"description\": \"\"\n      }\n    }\n  ]\n}"
            }
          },
          "metadata": {},
          "execution_count": 48
        }
      ]
    },
    {
      "cell_type": "markdown",
      "source": [
        "**Observaciones 💡 -->**"
      ],
      "metadata": {
        "id": "6W9stqX5QCRX"
      }
    },
    {
      "cell_type": "markdown",
      "source": [
        "El análisis descriptivo del consumo nacional de petróleo y productos petroleros en Guatemala revela variaciones significativas entre los diferentes tipos de combustibles.\n",
        "\n",
        "> - El consumo promedio de gasolina regular es de aproximadamente 386,490 unidades, con una desviación estándar considerable que indica alta variabilidad. La gasolina superior, con un consumo medio de 464,562 unidades, presenta una desviación estándar menor, sugiriendo una distribución más estable. El gas licuado de petróleo muestra un consumo medio de 312,351 unidades, mientras que el diésel, con un promedio de 869,783 unidades, tiene el rango más amplio y la desviación estándar más alta, lo que sugiere una mayor fluctuación en su consumo.\n",
        "> - Los valores mínimos y máximos para cada tipo de combustible reflejan un rango amplio de consumo, con el diésel mostrando la mayor discrepancia entre los valores extremos. Estos resultados indican que, aunque hay una tendencia general en el consumo de cada tipo de combustible, hay una variabilidad considerable que podría estar influenciada por diversos factores económicos y políticos a lo largo del tiempo."
      ],
      "metadata": {
        "id": "6hXS4EZCP8vQ"
      }
    },
    {
      "cell_type": "markdown",
      "source": [
        "**Conjunto de Datos de Importación -->**"
      ],
      "metadata": {
        "id": "asvWi2SiPhat"
      }
    },
    {
      "cell_type": "code",
      "source": [
        "dataframes[1].describe()"
      ],
      "metadata": {
        "colab": {
          "base_uri": "https://localhost:8080/",
          "height": 314
        },
        "id": "LCjwvXg8McIF",
        "outputId": "95eabb3d-f277-4bee-b1dd-5a570d9355f4"
      },
      "execution_count": 49,
      "outputs": [
        {
          "output_type": "execute_result",
          "data": {
            "text/plain": [
              "       gasoline_regular  gasoline_superior  liquefied_gas        diesel\n",
              "count        281.000000       2.810000e+02   2.810000e+02  2.810000e+02\n",
              "mean      401433.017451       4.853736e+05   4.091257e+05  8.815024e+05\n",
              "std       234159.202453       1.539939e+05   1.973531e+05  2.856735e+05\n",
              "min        81015.300000       1.702925e+05   1.005615e+05  2.297647e+05\n",
              "25%       205624.080000       3.668863e+05   2.252070e+05  6.869238e+05\n",
              "50%       320566.690000       4.704840e+05   4.100011e+05  8.429935e+05\n",
              "75%       548714.530000       5.958704e+05   5.656279e+05  1.095743e+06\n",
              "max       987872.050000       1.227174e+06   1.077123e+06  1.595699e+06"
            ],
            "text/html": [
              "\n",
              "  <div id=\"df-1cb85537-9c92-45b0-9986-edb0f54d0cd7\" class=\"colab-df-container\">\n",
              "    <div>\n",
              "<style scoped>\n",
              "    .dataframe tbody tr th:only-of-type {\n",
              "        vertical-align: middle;\n",
              "    }\n",
              "\n",
              "    .dataframe tbody tr th {\n",
              "        vertical-align: top;\n",
              "    }\n",
              "\n",
              "    .dataframe thead th {\n",
              "        text-align: right;\n",
              "    }\n",
              "</style>\n",
              "<table border=\"1\" class=\"dataframe\">\n",
              "  <thead>\n",
              "    <tr style=\"text-align: right;\">\n",
              "      <th></th>\n",
              "      <th>gasoline_regular</th>\n",
              "      <th>gasoline_superior</th>\n",
              "      <th>liquefied_gas</th>\n",
              "      <th>diesel</th>\n",
              "    </tr>\n",
              "  </thead>\n",
              "  <tbody>\n",
              "    <tr>\n",
              "      <th>count</th>\n",
              "      <td>281.000000</td>\n",
              "      <td>2.810000e+02</td>\n",
              "      <td>2.810000e+02</td>\n",
              "      <td>2.810000e+02</td>\n",
              "    </tr>\n",
              "    <tr>\n",
              "      <th>mean</th>\n",
              "      <td>401433.017451</td>\n",
              "      <td>4.853736e+05</td>\n",
              "      <td>4.091257e+05</td>\n",
              "      <td>8.815024e+05</td>\n",
              "    </tr>\n",
              "    <tr>\n",
              "      <th>std</th>\n",
              "      <td>234159.202453</td>\n",
              "      <td>1.539939e+05</td>\n",
              "      <td>1.973531e+05</td>\n",
              "      <td>2.856735e+05</td>\n",
              "    </tr>\n",
              "    <tr>\n",
              "      <th>min</th>\n",
              "      <td>81015.300000</td>\n",
              "      <td>1.702925e+05</td>\n",
              "      <td>1.005615e+05</td>\n",
              "      <td>2.297647e+05</td>\n",
              "    </tr>\n",
              "    <tr>\n",
              "      <th>25%</th>\n",
              "      <td>205624.080000</td>\n",
              "      <td>3.668863e+05</td>\n",
              "      <td>2.252070e+05</td>\n",
              "      <td>6.869238e+05</td>\n",
              "    </tr>\n",
              "    <tr>\n",
              "      <th>50%</th>\n",
              "      <td>320566.690000</td>\n",
              "      <td>4.704840e+05</td>\n",
              "      <td>4.100011e+05</td>\n",
              "      <td>8.429935e+05</td>\n",
              "    </tr>\n",
              "    <tr>\n",
              "      <th>75%</th>\n",
              "      <td>548714.530000</td>\n",
              "      <td>5.958704e+05</td>\n",
              "      <td>5.656279e+05</td>\n",
              "      <td>1.095743e+06</td>\n",
              "    </tr>\n",
              "    <tr>\n",
              "      <th>max</th>\n",
              "      <td>987872.050000</td>\n",
              "      <td>1.227174e+06</td>\n",
              "      <td>1.077123e+06</td>\n",
              "      <td>1.595699e+06</td>\n",
              "    </tr>\n",
              "  </tbody>\n",
              "</table>\n",
              "</div>\n",
              "    <div class=\"colab-df-buttons\">\n",
              "\n",
              "  <div class=\"colab-df-container\">\n",
              "    <button class=\"colab-df-convert\" onclick=\"convertToInteractive('df-1cb85537-9c92-45b0-9986-edb0f54d0cd7')\"\n",
              "            title=\"Convert this dataframe to an interactive table.\"\n",
              "            style=\"display:none;\">\n",
              "\n",
              "  <svg xmlns=\"http://www.w3.org/2000/svg\" height=\"24px\" viewBox=\"0 -960 960 960\">\n",
              "    <path d=\"M120-120v-720h720v720H120Zm60-500h600v-160H180v160Zm220 220h160v-160H400v160Zm0 220h160v-160H400v160ZM180-400h160v-160H180v160Zm440 0h160v-160H620v160ZM180-180h160v-160H180v160Zm440 0h160v-160H620v160Z\"/>\n",
              "  </svg>\n",
              "    </button>\n",
              "\n",
              "  <style>\n",
              "    .colab-df-container {\n",
              "      display:flex;\n",
              "      gap: 12px;\n",
              "    }\n",
              "\n",
              "    .colab-df-convert {\n",
              "      background-color: #E8F0FE;\n",
              "      border: none;\n",
              "      border-radius: 50%;\n",
              "      cursor: pointer;\n",
              "      display: none;\n",
              "      fill: #1967D2;\n",
              "      height: 32px;\n",
              "      padding: 0 0 0 0;\n",
              "      width: 32px;\n",
              "    }\n",
              "\n",
              "    .colab-df-convert:hover {\n",
              "      background-color: #E2EBFA;\n",
              "      box-shadow: 0px 1px 2px rgba(60, 64, 67, 0.3), 0px 1px 3px 1px rgba(60, 64, 67, 0.15);\n",
              "      fill: #174EA6;\n",
              "    }\n",
              "\n",
              "    .colab-df-buttons div {\n",
              "      margin-bottom: 4px;\n",
              "    }\n",
              "\n",
              "    [theme=dark] .colab-df-convert {\n",
              "      background-color: #3B4455;\n",
              "      fill: #D2E3FC;\n",
              "    }\n",
              "\n",
              "    [theme=dark] .colab-df-convert:hover {\n",
              "      background-color: #434B5C;\n",
              "      box-shadow: 0px 1px 3px 1px rgba(0, 0, 0, 0.15);\n",
              "      filter: drop-shadow(0px 1px 2px rgba(0, 0, 0, 0.3));\n",
              "      fill: #FFFFFF;\n",
              "    }\n",
              "  </style>\n",
              "\n",
              "    <script>\n",
              "      const buttonEl =\n",
              "        document.querySelector('#df-1cb85537-9c92-45b0-9986-edb0f54d0cd7 button.colab-df-convert');\n",
              "      buttonEl.style.display =\n",
              "        google.colab.kernel.accessAllowed ? 'block' : 'none';\n",
              "\n",
              "      async function convertToInteractive(key) {\n",
              "        const element = document.querySelector('#df-1cb85537-9c92-45b0-9986-edb0f54d0cd7');\n",
              "        const dataTable =\n",
              "          await google.colab.kernel.invokeFunction('convertToInteractive',\n",
              "                                                    [key], {});\n",
              "        if (!dataTable) return;\n",
              "\n",
              "        const docLinkHtml = 'Like what you see? Visit the ' +\n",
              "          '<a target=\"_blank\" href=https://colab.research.google.com/notebooks/data_table.ipynb>data table notebook</a>'\n",
              "          + ' to learn more about interactive tables.';\n",
              "        element.innerHTML = '';\n",
              "        dataTable['output_type'] = 'display_data';\n",
              "        await google.colab.output.renderOutput(dataTable, element);\n",
              "        const docLink = document.createElement('div');\n",
              "        docLink.innerHTML = docLinkHtml;\n",
              "        element.appendChild(docLink);\n",
              "      }\n",
              "    </script>\n",
              "  </div>\n",
              "\n",
              "\n",
              "<div id=\"df-81e5743f-5d6b-41a5-930b-d51fecede9d9\">\n",
              "  <button class=\"colab-df-quickchart\" onclick=\"quickchart('df-81e5743f-5d6b-41a5-930b-d51fecede9d9')\"\n",
              "            title=\"Suggest charts\"\n",
              "            style=\"display:none;\">\n",
              "\n",
              "<svg xmlns=\"http://www.w3.org/2000/svg\" height=\"24px\"viewBox=\"0 0 24 24\"\n",
              "     width=\"24px\">\n",
              "    <g>\n",
              "        <path d=\"M19 3H5c-1.1 0-2 .9-2 2v14c0 1.1.9 2 2 2h14c1.1 0 2-.9 2-2V5c0-1.1-.9-2-2-2zM9 17H7v-7h2v7zm4 0h-2V7h2v10zm4 0h-2v-4h2v4z\"/>\n",
              "    </g>\n",
              "</svg>\n",
              "  </button>\n",
              "\n",
              "<style>\n",
              "  .colab-df-quickchart {\n",
              "      --bg-color: #E8F0FE;\n",
              "      --fill-color: #1967D2;\n",
              "      --hover-bg-color: #E2EBFA;\n",
              "      --hover-fill-color: #174EA6;\n",
              "      --disabled-fill-color: #AAA;\n",
              "      --disabled-bg-color: #DDD;\n",
              "  }\n",
              "\n",
              "  [theme=dark] .colab-df-quickchart {\n",
              "      --bg-color: #3B4455;\n",
              "      --fill-color: #D2E3FC;\n",
              "      --hover-bg-color: #434B5C;\n",
              "      --hover-fill-color: #FFFFFF;\n",
              "      --disabled-bg-color: #3B4455;\n",
              "      --disabled-fill-color: #666;\n",
              "  }\n",
              "\n",
              "  .colab-df-quickchart {\n",
              "    background-color: var(--bg-color);\n",
              "    border: none;\n",
              "    border-radius: 50%;\n",
              "    cursor: pointer;\n",
              "    display: none;\n",
              "    fill: var(--fill-color);\n",
              "    height: 32px;\n",
              "    padding: 0;\n",
              "    width: 32px;\n",
              "  }\n",
              "\n",
              "  .colab-df-quickchart:hover {\n",
              "    background-color: var(--hover-bg-color);\n",
              "    box-shadow: 0 1px 2px rgba(60, 64, 67, 0.3), 0 1px 3px 1px rgba(60, 64, 67, 0.15);\n",
              "    fill: var(--button-hover-fill-color);\n",
              "  }\n",
              "\n",
              "  .colab-df-quickchart-complete:disabled,\n",
              "  .colab-df-quickchart-complete:disabled:hover {\n",
              "    background-color: var(--disabled-bg-color);\n",
              "    fill: var(--disabled-fill-color);\n",
              "    box-shadow: none;\n",
              "  }\n",
              "\n",
              "  .colab-df-spinner {\n",
              "    border: 2px solid var(--fill-color);\n",
              "    border-color: transparent;\n",
              "    border-bottom-color: var(--fill-color);\n",
              "    animation:\n",
              "      spin 1s steps(1) infinite;\n",
              "  }\n",
              "\n",
              "  @keyframes spin {\n",
              "    0% {\n",
              "      border-color: transparent;\n",
              "      border-bottom-color: var(--fill-color);\n",
              "      border-left-color: var(--fill-color);\n",
              "    }\n",
              "    20% {\n",
              "      border-color: transparent;\n",
              "      border-left-color: var(--fill-color);\n",
              "      border-top-color: var(--fill-color);\n",
              "    }\n",
              "    30% {\n",
              "      border-color: transparent;\n",
              "      border-left-color: var(--fill-color);\n",
              "      border-top-color: var(--fill-color);\n",
              "      border-right-color: var(--fill-color);\n",
              "    }\n",
              "    40% {\n",
              "      border-color: transparent;\n",
              "      border-right-color: var(--fill-color);\n",
              "      border-top-color: var(--fill-color);\n",
              "    }\n",
              "    60% {\n",
              "      border-color: transparent;\n",
              "      border-right-color: var(--fill-color);\n",
              "    }\n",
              "    80% {\n",
              "      border-color: transparent;\n",
              "      border-right-color: var(--fill-color);\n",
              "      border-bottom-color: var(--fill-color);\n",
              "    }\n",
              "    90% {\n",
              "      border-color: transparent;\n",
              "      border-bottom-color: var(--fill-color);\n",
              "    }\n",
              "  }\n",
              "</style>\n",
              "\n",
              "  <script>\n",
              "    async function quickchart(key) {\n",
              "      const quickchartButtonEl =\n",
              "        document.querySelector('#' + key + ' button');\n",
              "      quickchartButtonEl.disabled = true;  // To prevent multiple clicks.\n",
              "      quickchartButtonEl.classList.add('colab-df-spinner');\n",
              "      try {\n",
              "        const charts = await google.colab.kernel.invokeFunction(\n",
              "            'suggestCharts', [key], {});\n",
              "      } catch (error) {\n",
              "        console.error('Error during call to suggestCharts:', error);\n",
              "      }\n",
              "      quickchartButtonEl.classList.remove('colab-df-spinner');\n",
              "      quickchartButtonEl.classList.add('colab-df-quickchart-complete');\n",
              "    }\n",
              "    (() => {\n",
              "      let quickchartButtonEl =\n",
              "        document.querySelector('#df-81e5743f-5d6b-41a5-930b-d51fecede9d9 button');\n",
              "      quickchartButtonEl.style.display =\n",
              "        google.colab.kernel.accessAllowed ? 'block' : 'none';\n",
              "    })();\n",
              "  </script>\n",
              "</div>\n",
              "\n",
              "    </div>\n",
              "  </div>\n"
            ],
            "application/vnd.google.colaboratory.intrinsic+json": {
              "type": "dataframe",
              "summary": "{\n  \"name\": \"dataframes[1]\",\n  \"rows\": 8,\n  \"fields\": [\n    {\n      \"column\": \"gasoline_regular\",\n      \"properties\": {\n        \"dtype\": \"number\",\n        \"std\": 311390.3960963872,\n        \"min\": 281.0,\n        \"max\": 987872.05,\n        \"num_unique_values\": 8,\n        \"samples\": [\n          401433.01745110995,\n          320566.69,\n          281.0\n        ],\n        \"semantic_type\": \"\",\n        \"description\": \"\"\n      }\n    },\n    {\n      \"column\": \"gasoline_superior\",\n      \"properties\": {\n        \"dtype\": \"number\",\n        \"std\": 377937.58604032337,\n        \"min\": 281.0,\n        \"max\": 1227173.53,\n        \"num_unique_values\": 8,\n        \"samples\": [\n          485373.6239039145,\n          470483.98,\n          281.0\n        ],\n        \"semantic_type\": \"\",\n        \"description\": \"\"\n      }\n    },\n    {\n      \"column\": \"liquefied_gas\",\n      \"properties\": {\n        \"dtype\": \"number\",\n        \"std\": 338358.45211177936,\n        \"min\": 281.0,\n        \"max\": 1077122.75,\n        \"num_unique_values\": 8,\n        \"samples\": [\n          409125.7103223719,\n          410001.09523809515,\n          281.0\n        ],\n        \"semantic_type\": \"\",\n        \"description\": \"\"\n      }\n    },\n    {\n      \"column\": \"diesel\",\n      \"properties\": {\n        \"dtype\": \"number\",\n        \"std\": 520274.8106361286,\n        \"min\": 281.0,\n        \"max\": 1595698.5599999998,\n        \"num_unique_values\": 8,\n        \"samples\": [\n          881502.4385266904,\n          842993.49,\n          281.0\n        ],\n        \"semantic_type\": \"\",\n        \"description\": \"\"\n      }\n    }\n  ]\n}"
            }
          },
          "metadata": {},
          "execution_count": 49
        }
      ]
    },
    {
      "cell_type": "markdown",
      "source": [
        "**Observaciones 💡 -->**"
      ],
      "metadata": {
        "id": "C34ZUiQQQ8zg"
      }
    },
    {
      "cell_type": "markdown",
      "source": [
        "El análisis descriptivo de las importaciones de productos derivados del petróleo en Guatemala muestra patrones interesantes en el consumo de diferentes tipos de combustibles.\n",
        "> - La gasolina regular tiene una importación promedio de aproximadamente 401,433 unidades, con una desviación estándar considerable que sugiere variabilidad en el uso. Por otro lado, la gasolina superior, con un promedio de 485,374 unidades, presenta un rango de importación que va desde un mínimo de 170,292.5 hasta un máximo de 1,227,173.53, indicando que este combustible es utilizado en mayor medida en momentos específicos. El gas licuado de petróleo muestra una importación media de 409,126 unidades y una amplia desviación estándar, lo que también indica fluctuaciones significativas en su uso. En el caso del diésel, el promedio es de 881,502 unidades, con un rango considerable que refleja alta importación, alcanzando un máximo de aproximadamente 1,595,698.56.\n",
        "> - Se cree que aunque hay un consumo promedio notable de todos los combustibles, la variabilidad en los datos puede estar influenciada por factores económicos, estacionales y políticos, lo que requiere un análisis más profundo para comprender las tendencias en el consumo de combustibles en el país."
      ],
      "metadata": {
        "id": "vYRmFXNwQ7b2"
      }
    },
    {
      "cell_type": "markdown",
      "source": [
        "### **(3) Análisis de Data Faltante**"
      ],
      "metadata": {
        "id": "sETUHqkgRpQ_"
      }
    },
    {
      "cell_type": "code",
      "source": [
        "# Checking null values of each columns\n",
        "dataframes[0].isnull().sum()"
      ],
      "metadata": {
        "colab": {
          "base_uri": "https://localhost:8080/"
        },
        "id": "7tblxirHREDT",
        "outputId": "2a4aadf4-5e2d-427b-865c-37d99a36e153"
      },
      "execution_count": 50,
      "outputs": [
        {
          "output_type": "execute_result",
          "data": {
            "text/plain": [
              "gasoline_regular     0\n",
              "gasoline_superior    0\n",
              "liquefied_gas        0\n",
              "diesel               0\n",
              "dtype: int64"
            ]
          },
          "metadata": {},
          "execution_count": 50
        }
      ]
    },
    {
      "cell_type": "code",
      "source": [
        "# Checking null values of each columns\n",
        "dataframes[1].isnull().sum()"
      ],
      "metadata": {
        "colab": {
          "base_uri": "https://localhost:8080/"
        },
        "id": "aXZZ7I6sR43H",
        "outputId": "1e7d602e-a4d5-4ed7-aac2-51dcc410434d"
      },
      "execution_count": 51,
      "outputs": [
        {
          "output_type": "execute_result",
          "data": {
            "text/plain": [
              "gasoline_regular     0\n",
              "gasoline_superior    0\n",
              "liquefied_gas        0\n",
              "diesel               0\n",
              "dtype: int64"
            ]
          },
          "metadata": {},
          "execution_count": 51
        }
      ]
    },
    {
      "cell_type": "markdown",
      "source": [
        "**Observaciones 💡 -->**"
      ],
      "metadata": {
        "id": "awotFs9NR96L"
      }
    },
    {
      "cell_type": "markdown",
      "source": [
        "Analisis aqui..."
      ],
      "metadata": {
        "id": "SBRz_BQISBWM"
      }
    },
    {
      "cell_type": "code",
      "source": [],
      "metadata": {
        "id": "czdec-z_SCF4"
      },
      "execution_count": null,
      "outputs": []
    }
  ],
  "metadata": {
    "kernelspec": {
      "display_name": "venv",
      "language": "python",
      "name": "python3"
    },
    "language_info": {
      "codemirror_mode": {
        "name": "ipython",
        "version": 3
      },
      "file_extension": ".py",
      "mimetype": "text/x-python",
      "name": "python",
      "nbconvert_exporter": "python",
      "pygments_lexer": "ipython3",
      "version": "3.10.12"
    },
    "colab": {
      "provenance": []
    }
  },
  "nbformat": 4,
  "nbformat_minor": 0
}